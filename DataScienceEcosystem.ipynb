{
 "cells": [
  {
   "cell_type": "markdown",
   "id": "403afc0e-f6d3-46d7-95cb-0d08050be318",
   "metadata": {},
   "source": [
    "Data Science Tools and Ecosystem\n",
    "==="
   ]
  },
  {
   "cell_type": "markdown",
   "id": "1d06bf07-52b0-4831-a368-195d90fc525e",
   "metadata": {},
   "source": [
    "In this notebook, Data Science Tools and Ecosystem are summarized."
   ]
  },
  {
   "cell_type": "markdown",
   "id": "e193cbbc-a198-47f0-b972-69ad769f6e3f",
   "metadata": {},
   "source": [
    "Some of the popular languages that Data Scientists use are:\n",
    "1. R\n",
    "2. Python\n",
    "3. Julia"
   ]
  },
  {
   "cell_type": "markdown",
   "id": "caee1877-9a4d-4854-8c4e-0b7ae73bb4d3",
   "metadata": {},
   "source": [
    "Some of the commonly used libraries used by Data Scientists include:\n",
    "1. Keras\n",
    "2. NumPy\n",
    "3. PyTorch"
   ]
  },
  {
   "cell_type": "markdown",
   "id": "cf1f6498-74b2-433d-a620-7d771ab8c624",
   "metadata": {},
   "source": [
    "|Data Science Tools|\n",
    "|---|\n",
    "|Jupyter Notebooks|\n",
    "|RStudio|\n",
    "|Apache Hadoop|"
   ]
  },
  {
   "cell_type": "markdown",
   "id": "f72e8caa-a259-4d41-960a-a948c0b7eca2",
   "metadata": {},
   "source": [
    "### Below are a few examples of evaluating arithmetic expressions in Python"
   ]
  },
  {
   "cell_type": "code",
   "execution_count": 5,
   "id": "504ef831-bfa9-4509-a450-3eec2ecbefdc",
   "metadata": {},
   "outputs": [
    {
     "data": {
      "text/plain": [
       "17"
      ]
     },
     "execution_count": 5,
     "metadata": {},
     "output_type": "execute_result"
    }
   ],
   "source": [
    "'This a simple arithmetic expression to mutiply then add integers'\n",
    "(3*4)+5"
   ]
  },
  {
   "cell_type": "code",
   "execution_count": 6,
   "id": "97ef4b0d-dfe4-4ea2-8b54-3b57dcb750fe",
   "metadata": {},
   "outputs": [
    {
     "name": "stdout",
     "output_type": "stream",
     "text": [
      "3.3333333333333335\n"
     ]
    }
   ],
   "source": [
    "'This will convert 200 minutes to hours by diving by 60'\n",
    "minutes = 200\n",
    "hours = 60\n",
    "hours = minutes/60\n",
    "print(hours)"
   ]
  },
  {
   "cell_type": "markdown",
   "id": "2d84a53b-326c-47b9-a103-d19ab6a67e98",
   "metadata": {},
   "source": [
    "**Objectives:**\n",
    "- List popular languages for Data Science\n",
    "- List common libraries used by Data Scientist.\n",
    "- Give a few examples of evaluating arithmetic expressions in Python"
   ]
  },
  {
   "cell_type": "markdown",
   "id": "3bf0a9fd-5648-49bb-ae5e-1bb14c745f54",
   "metadata": {},
   "source": [
    "## Author \n",
    "\n",
    "Kiet Tran"
   ]
  },
  {
   "cell_type": "code",
   "execution_count": null,
   "id": "7a67a3da-e850-491a-9e05-b14d3dc15d97",
   "metadata": {},
   "outputs": [],
   "source": []
  }
 ],
 "metadata": {
  "kernelspec": {
   "display_name": "Python",
   "language": "python",
   "name": "conda-env-python-py"
  },
  "language_info": {
   "codemirror_mode": {
    "name": "ipython",
    "version": 3
   },
   "file_extension": ".py",
   "mimetype": "text/x-python",
   "name": "python",
   "nbconvert_exporter": "python",
   "pygments_lexer": "ipython3",
   "version": "3.7.12"
  }
 },
 "nbformat": 4,
 "nbformat_minor": 5
}
